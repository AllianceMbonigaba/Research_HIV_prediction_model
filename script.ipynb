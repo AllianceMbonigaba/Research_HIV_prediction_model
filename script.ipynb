{
 "cells": [
  {
   "cell_type": "code",
   "execution_count": 1,
   "metadata": {},
   "outputs": [],
   "source": [
    "import pandas as pd\n",
    "import numpy as np\n",
    "import matplotlib.pyplot as plt\n",
    "from sklearn.model_selection import train_test_split\n",
    "from sklearn.linear_model import LogisticRegression\n",
    "from sklearn.metrics import accuracy_score"
   ]
  },
  {
   "cell_type": "code",
   "execution_count": 6,
   "metadata": {},
   "outputs": [
    {
     "data": {
      "text/html": [
       "<div>\n",
       "<style scoped>\n",
       "    .dataframe tbody tr th:only-of-type {\n",
       "        vertical-align: middle;\n",
       "    }\n",
       "\n",
       "    .dataframe tbody tr th {\n",
       "        vertical-align: top;\n",
       "    }\n",
       "\n",
       "    .dataframe thead th {\n",
       "        text-align: right;\n",
       "    }\n",
       "</style>\n",
       "<table border=\"1\" class=\"dataframe\">\n",
       "  <thead>\n",
       "    <tr style=\"text-align: right;\">\n",
       "      <th></th>\n",
       "      <th>education</th>\n",
       "      <th>religion</th>\n",
       "      <th>wealth_index</th>\n",
       "      <th>marital_status</th>\n",
       "      <th>usedCondom</th>\n",
       "      <th>sex_partners</th>\n",
       "      <th>residence</th>\n",
       "      <th>age</th>\n",
       "      <th>HIV_test</th>\n",
       "    </tr>\n",
       "  </thead>\n",
       "  <tbody>\n",
       "    <tr>\n",
       "      <td>0</td>\n",
       "      <td>primary</td>\n",
       "      <td>catholic</td>\n",
       "      <td>poorest</td>\n",
       "      <td>never in union</td>\n",
       "      <td>yes</td>\n",
       "      <td>0.0</td>\n",
       "      <td>Rural</td>\n",
       "      <td>15</td>\n",
       "      <td>0</td>\n",
       "    </tr>\n",
       "    <tr>\n",
       "      <td>1</td>\n",
       "      <td>primary</td>\n",
       "      <td>protestant</td>\n",
       "      <td>poorer</td>\n",
       "      <td>never in union</td>\n",
       "      <td>yes</td>\n",
       "      <td>0.0</td>\n",
       "      <td>Rural</td>\n",
       "      <td>15</td>\n",
       "      <td>0</td>\n",
       "    </tr>\n",
       "    <tr>\n",
       "      <td>2</td>\n",
       "      <td>primary</td>\n",
       "      <td>catholic</td>\n",
       "      <td>poorest</td>\n",
       "      <td>never in union</td>\n",
       "      <td>yes</td>\n",
       "      <td>0.0</td>\n",
       "      <td>Rural</td>\n",
       "      <td>15</td>\n",
       "      <td>0</td>\n",
       "    </tr>\n",
       "    <tr>\n",
       "      <td>3</td>\n",
       "      <td>primary</td>\n",
       "      <td>catholic</td>\n",
       "      <td>middle</td>\n",
       "      <td>never in union</td>\n",
       "      <td>yes</td>\n",
       "      <td>0.0</td>\n",
       "      <td>Rural</td>\n",
       "      <td>15</td>\n",
       "      <td>0</td>\n",
       "    </tr>\n",
       "    <tr>\n",
       "      <td>4</td>\n",
       "      <td>secondary</td>\n",
       "      <td>protestant</td>\n",
       "      <td>poorer</td>\n",
       "      <td>never in union</td>\n",
       "      <td>yes</td>\n",
       "      <td>0.0</td>\n",
       "      <td>Rural</td>\n",
       "      <td>15</td>\n",
       "      <td>0</td>\n",
       "    </tr>\n",
       "  </tbody>\n",
       "</table>\n",
       "</div>"
      ],
      "text/plain": [
       "   education    religion wealth_index  marital_status usedCondom  \\\n",
       "0    primary    catholic      poorest  never in union        yes   \n",
       "1    primary  protestant       poorer  never in union        yes   \n",
       "2    primary    catholic      poorest  never in union        yes   \n",
       "3    primary    catholic       middle  never in union        yes   \n",
       "4  secondary  protestant       poorer  never in union        yes   \n",
       "\n",
       "   sex_partners residence  age  HIV_test  \n",
       "0           0.0     Rural   15         0  \n",
       "1           0.0     Rural   15         0  \n",
       "2           0.0     Rural   15         0  \n",
       "3           0.0     Rural   15         0  \n",
       "4           0.0     Rural   15         0  "
      ]
     },
     "execution_count": 6,
     "metadata": {},
     "output_type": "execute_result"
    }
   ],
   "source": [
    "# Importing the dataset\n",
    "hivData = pd.read_csv(\"HIV_test.csv\")\n",
    "hivData.head()"
   ]
  },
  {
   "cell_type": "code",
   "execution_count": 7,
   "metadata": {},
   "outputs": [
    {
     "name": "stdout",
     "output_type": "stream",
     "text": [
      "<class 'pandas.core.frame.DataFrame'>\n",
      "RangeIndex: 4882 entries, 0 to 4881\n",
      "Data columns (total 9 columns):\n",
      "education         4882 non-null object\n",
      "religion          4878 non-null object\n",
      "wealth_index      4882 non-null object\n",
      "marital_status    4882 non-null object\n",
      "usedCondom        4873 non-null object\n",
      "sex_partners      4881 non-null float64\n",
      "residence         4882 non-null object\n",
      "age               4882 non-null int64\n",
      "HIV_test          4882 non-null int64\n",
      "dtypes: float64(1), int64(2), object(6)\n",
      "memory usage: 343.4+ KB\n"
     ]
    }
   ],
   "source": [
    "# Basic dataset information\n",
    "hivData.info()"
   ]
  },
  {
   "cell_type": "markdown",
   "metadata": {},
   "source": [
    "## Analyzing the dataset"
   ]
  },
  {
   "cell_type": "code",
   "execution_count": 8,
   "metadata": {},
   "outputs": [
    {
     "data": {
      "text/plain": [
       "(-1.1340223240997698, 1.7298259956074835, -1.10570363406854, 1.10243954263722)"
      ]
     },
     "execution_count": 8,
     "metadata": {},
     "output_type": "execute_result"
    },
    {
     "data": {
      "image/png": "[encoded data removed]",
      "text/plain": [
       "<Figure size 432x288 with 1 Axes>"
      ]
     },
     "metadata": {},
     "output_type": "display_data"
    }
   ],
   "source": [
    "# Checking the distribution of HIV postives vs negatives\n",
    "positive = len(hivData[hivData[\"HIV_test\"] == 1])\n",
    "negative = len(hivData[hivData[\"HIV_test\"] == 0])\n",
    "hivTest = [negative, positive]\n",
    "label = \"Negative\", \"Positive\"\n",
    "explode = (0, 0.6)\n",
    "plt.title(\"HIV test results\")\n",
    "plt.pie(hivTest, labels=label, explode=explode, autopct='%1.1f%%')\n",
    "plt.axis('equal')\n"
   ]
  },
  {
   "cell_type": "code",
   "execution_count": 9,
   "metadata": {},
   "outputs": [
    {
     "name": "stdout",
     "output_type": "stream",
     "text": [
      "HIV positive in urban areas:  25\n",
      "HIV positive in rural areas:  28\n",
      "HIV negative in urban areas:  1240\n",
      "HIV negative in rural areas:  3589\n"
     ]
    }
   ],
   "source": [
    "# Analysing those who stay in rural areas vs those in urban areas\n",
    "positive = hivData[hivData[\"HIV_test\"] == 1]\n",
    "negative = hivData[hivData[\"HIV_test\"] == 0]\n",
    "\n",
    "ruralPos = len(positive[positive[\"residence\"]=='Rural'])\n",
    "urbanPos = len(positive[positive[\"residence\"]=='Urban'])\n",
    "print(\"HIV positive in urban areas: \", urbanPos)\n",
    "print(\"HIV positive in rural areas: \", ruralPos)\n",
    "\n",
    "ruralNeg = len(negative[negative[\"residence\"]=='Rural'])\n",
    "urbanNeg = len(negative[negative[\"residence\"]=='Urban'])\n",
    "\n",
    "print(\"HIV negative in urban areas: \", urbanNeg)\n",
    "print(\"HIV negative in rural areas: \", ruralNeg)"
   ]
  },
  {
   "cell_type": "code",
   "execution_count": 10,
   "metadata": {},
   "outputs": [
    {
     "data": {
      "text/plain": [
       "Text(0.5, 0, 'Age')"
      ]
     },
     "execution_count": 10,
     "metadata": {},
     "output_type": "execute_result"
    },
    {
     "data": {
      "image/png": "[encoded data removed]",
      "text/plain": [
       "<Figure size 432x288 with 1 Axes>"
      ]
     },
     "metadata": {
      "needs_background": "light"
     },
     "output_type": "display_data"
    }
   ],
   "source": [
    "# Analysing the age range with most HIV positive\n",
    "agePos = positive[\"age\"]\n",
    "plt.title(\"Age distribution of people with HIV Positive\")\n",
    "plt.hist(agePos, alpha=0.8)\n",
    "plt.xlabel(\"Age\")"
   ]
  },
  {
   "cell_type": "code",
   "execution_count": 11,
   "metadata": {},
   "outputs": [
    {
     "data": {
      "text/plain": [
       "([<matplotlib.patches.Wedge at 0x2831af0d788>,\n",
       "  <matplotlib.patches.Wedge at 0x2831af0dc88>,\n",
       "  <matplotlib.patches.Wedge at 0x2831af16208>,\n",
       "  <matplotlib.patches.Wedge at 0x2831af16288>],\n",
       " [Text(-0.4134103223182588, 1.0193585754780865, 'Primary'),\n",
       "  Text(0.1624111973399317, -1.0879442094972565, 'Secondary'),\n",
       "  Text(1.052041081285365, -0.32126245234686224, 'Not educated'),\n",
       "  Text(1.0980681048831955, -0.06516469165297767, 'Higher')])"
      ]
     },
     "execution_count": 11,
     "metadata": {},
     "output_type": "execute_result"
    },
    {
     "data": {
      "image/png": "[encoded data removed]",
      "text/plain": [
       "<Figure size 432x288 with 1 Axes>"
      ]
     },
     "metadata": {},
     "output_type": "display_data"
    }
   ],
   "source": [
    "# Analysing the education level \n",
    "primaryPos = len(positive[positive[\"education\"] == 'primary'])\n",
    "secondaryPos = len(positive[positive[\"education\"] == 'secondary'])\n",
    "noteducatedPos = len(positive[positive[\"education\"] == 'no education'])\n",
    "higherPos = len(positive[positive[\"education\"] == 'higher'])\n",
    "\n",
    "educationLevel = [primaryPos, secondaryPos, noteducatedPos, higherPos]\n",
    "labels = [\"Primary\", \"Secondary\", \"Not educated\", \"Higher\"]\n",
    "plt.title(\"Education Level of HIV positives\")\n",
    "plt.pie(educationLevel, labels=labels)"
   ]
  },
  {
   "cell_type": "code",
   "execution_count": 12,
   "metadata": {},
   "outputs": [
    {
     "data": {
      "text/plain": [
       "([<matplotlib.patches.Wedge at 0x2831af60ac8>,\n",
       "  <matplotlib.patches.Wedge at 0x2831af6a288>,\n",
       "  <matplotlib.patches.Wedge at 0x2831af6ab88>,\n",
       "  <matplotlib.patches.Wedge at 0x2831af73548>,\n",
       "  <matplotlib.patches.Wedge at 0x2831af7b188>],\n",
       " [Text(1.03116162521766, 0.3830218044426114, 'Poorest'),\n",
       "  Text(0.5872057017944141, 0.9301556126692617, 'Poorer'),\n",
       "  Text(-0.22657650913812635, 1.0764121355255991, 'Middle'),\n",
       "  Text(-0.9471479423106317, -0.5593842823826359, 'Richest'),\n",
       "  Text(0.9123463061021287, -0.6145113650224875, 'Richer')],\n",
       " [Text(0.5624517955732691, 0.20892098424142438, '11.3%'),\n",
       "  Text(0.32029401916058947, 0.5073576069105064, '9.4%'),\n",
       "  Text(-0.12358718680261437, 0.5871338921048722, '15.1%'),\n",
       "  Text(-0.5166261503512536, -0.3051186994814377, '45.3%'),\n",
       "  Text(0.49764343969207014, -0.33518801728499314, '18.9%')])"
      ]
     },
     "execution_count": 12,
     "metadata": {},
     "output_type": "execute_result"
    },
    {
     "data": {
      "image/png": "[encoded data removed]",
      "text/plain": [
       "<Figure size 432x288 with 1 Axes>"
      ]
     },
     "metadata": {},
     "output_type": "display_data"
    }
   ],
   "source": [
    "# Wealth index\n",
    "poorestPos = len(positive[positive[\"wealth_index\"] == 'poorest'])\n",
    "poorerPos = len(positive[positive[\"wealth_index\"] == 'poorer'])\n",
    "middlePos = len(positive[positive[\"wealth_index\"] == 'middle'])\n",
    "richestPos = len(positive[positive[\"wealth_index\"] == 'richest'])\n",
    "richerPos = len(positive[positive[\"wealth_index\"] == 'richer'])\n",
    "\n",
    "wealth_index = [poorestPos, poorerPos, middlePos, richestPos, richerPos]\n",
    "labels = [\"Poorest\", \"Poorer\", \"Middle\", \"Richest\", \"Richer\"]\n",
    "plt.title(\"Wealth indexes of HIV positives\")\n",
    "plt.pie(wealth_index, labels=labels, autopct='%1.1f%%')"
   ]
  },
  {
   "cell_type": "markdown",
   "metadata": {},
   "source": [
    "## Training a classification model"
   ]
  },
  {
   "cell_type": "markdown",
   "metadata": {},
   "source": [
    "The classification model will assist in predicting if someone has a possibility of getting HIV AIDS"
   ]
  },
  {
   "cell_type": "code",
   "execution_count": 13,
   "metadata": {},
   "outputs": [
    {
     "name": "stdout",
     "output_type": "stream",
     "text": [
      "<class 'pandas.core.frame.DataFrame'>\n",
      "RangeIndex: 4882 entries, 0 to 4881\n",
      "Data columns (total 9 columns):\n",
      "education         4882 non-null object\n",
      "religion          4878 non-null object\n",
      "wealth_index      4882 non-null object\n",
      "marital_status    4882 non-null object\n",
      "usedCondom        4882 non-null object\n",
      "sex_partners      4882 non-null float64\n",
      "residence         4882 non-null object\n",
      "age               4882 non-null int64\n",
      "HIV_test          4882 non-null int64\n",
      "dtypes: float64(1), int64(2), object(6)\n",
      "memory usage: 343.4+ KB\n"
     ]
    }
   ],
   "source": [
    "# Filling in missing value for usedCondom column and sex partners\n",
    "hivData[\"usedCondom\"] = hivData[\"usedCondom\"].fillna(method='ffill')\n",
    "avg = hivData[\"sex_partners\"].mean()\n",
    "hivData[\"sex_partners\"] = hivData[\"sex_partners\"].fillna(avg)\n",
    "hivData.info()"
   ]
  },
  {
   "cell_type": "code",
   "execution_count": 14,
   "metadata": {},
   "outputs": [
    {
     "data": {
      "text/plain": [
       "array(['catholic', 'protestant', 'adventist', 'muslim', 'no religion',\n",
       "       'jehovah witness', nan, 'other'], dtype=object)"
      ]
     },
     "execution_count": 14,
     "metadata": {},
     "output_type": "execute_result"
    }
   ],
   "source": [
    "hivData[\"religion\"].unique()"
   ]
  },
  {
   "cell_type": "code",
   "execution_count": 15,
   "metadata": {},
   "outputs": [
    {
     "name": "stdout",
     "output_type": "stream",
     "text": [
      "<class 'pandas.core.frame.DataFrame'>\n",
      "RangeIndex: 4882 entries, 0 to 4881\n",
      "Data columns (total 23 columns):\n",
      "sex_partners                           4882 non-null float64\n",
      "age                                    4882 non-null int64\n",
      "HIV_test                               4882 non-null int64\n",
      "higher                                 4882 non-null uint8\n",
      "no education                           4882 non-null uint8\n",
      "primary                                4882 non-null uint8\n",
      "secondary                              4882 non-null uint8\n",
      "middle                                 4882 non-null uint8\n",
      "poorer                                 4882 non-null uint8\n",
      "poorest                                4882 non-null uint8\n",
      "richer                                 4882 non-null uint8\n",
      "richest                                4882 non-null uint8\n",
      "divorced                               4882 non-null uint8\n",
      "living with partner                    4882 non-null uint8\n",
      "married                                4882 non-null uint8\n",
      "never in union                         4882 non-null uint8\n",
      "no longer living together/separated    4882 non-null uint8\n",
      "widowed                                4882 non-null uint8\n",
      "don't know                             4882 non-null uint8\n",
      "no                                     4882 non-null uint8\n",
      "yes                                    4882 non-null uint8\n",
      "Rural                                  4882 non-null uint8\n",
      "Urban                                  4882 non-null uint8\n",
      "dtypes: float64(1), int64(2), uint8(20)\n",
      "memory usage: 209.9 KB\n"
     ]
    }
   ],
   "source": [
    "# Turning object columns into dummies\n",
    "dummy_1 = pd.get_dummies(hivData[\"education\"])\n",
    "dummy_2 = pd.get_dummies(hivData[\"wealth_index\"])\n",
    "dummy_3 = pd.get_dummies(hivData[\"marital_status\"])\n",
    "dummy_4 = pd.get_dummies(hivData[\"usedCondom\"])\n",
    "dummy_5 = pd.get_dummies(hivData[\"residence\"])\n",
    "hivData = hivData.drop([\"education\", \"religion\", \"wealth_index\", \"marital_status\", \"usedCondom\", \"residence\"], axis=1)\n",
    "hivData = pd.concat([hivData, dummy_1], axis=1)\n",
    "hivData = pd.concat([hivData, dummy_2], axis=1)\n",
    "hivData = pd.concat([hivData, dummy_3], axis=1)\n",
    "hivData = pd.concat([hivData, dummy_4], axis=1)\n",
    "hivData = pd.concat([hivData, dummy_5], axis=1)\n",
    "hivData.info()"
   ]
  },
  {
   "cell_type": "code",
   "execution_count": 16,
   "metadata": {},
   "outputs": [],
   "source": [
    "# prepare data for training and testing\n",
    "data = hivData.drop([\"HIV_test\"], axis=1)\n",
    "label = hivData[\"HIV_test\"]\n",
    "\n",
    "X_train, X_test, y_train, y_test = train_test_split(data, label, random_state=1)"
   ]
  },
  {
   "cell_type": "code",
   "execution_count": 17,
   "metadata": {},
   "outputs": [
    {
     "name": "stderr",
     "output_type": "stream",
     "text": [
      "C:\\Users\\allia\\Anaconda3\\lib\\site-packages\\sklearn\\linear_model\\logistic.py:432: FutureWarning: Default solver will be changed to 'lbfgs' in 0.22. Specify a solver to silence this warning.\n",
      "  FutureWarning)\n"
     ]
    },
    {
     "name": "stdout",
     "output_type": "stream",
     "text": [
      "The logistic regression model has an accuracy of  99.09909909909909 %\n"
     ]
    }
   ],
   "source": [
    "# Training the model\n",
    "model = LogisticRegression()\n",
    "model.fit(X_train, y_train)\n",
    "y_pred = model.predict(X_test)\n",
    "print(\"The logistic regression model has an accuracy of \", accuracy_score(y_pred, y_test)*100, \"%\")"
   ]
  },
  {
   "cell_type": "code",
   "execution_count": null,
   "metadata": {},
   "outputs": [],
   "source": []
  }
 ],
 "metadata": {
  "kernelspec": {
   "display_name": "Python 3",
   "language": "python",
   "name": "python3"
  },
  "language_info": {
   "codemirror_mode": {
    "name": "ipython",
    "version": 3
   },
   "file_extension": ".py",
   "mimetype": "text/x-python",
   "name": "python",
   "nbconvert_exporter": "python",
   "pygments_lexer": "ipython3",
   "version": "3.7.4"
  }
 },
 "nbformat": 4,
 "nbformat_minor": 4
}
